{
 "cells": [
  {
   "cell_type": "code",
   "execution_count": null,
   "metadata": {},
   "outputs": [
    {
     "name": "stdout",
     "output_type": "stream",
     "text": [
      "SAS Connection failed. No connection established. Double check your settings in sascfg_personal.py file.\n",
      "\n",
      "Attempted to run program /opt/sasinside/SASHome/SASFoundation/9.4/bin/sas_u8 with the following parameters:['/opt/sasinside/SASHome/SASFoundation/9.4/bin/sas_u8', '-nodms', '-stdio', '-terminal', '-nosyntaxcheck', '-pagesize', 'MAX', '']\n",
      "\n",
      "Try running the following command (where saspy is running) manually to see if you can get more information on what went wrong:\n",
      "/opt/sasinside/SASHome/SASFoundation/9.4/bin/sas_u8 -nodms -stdio -terminal -nosyntaxcheck -pagesize MAX  \n",
      "\n",
      "No SAS process attached. SAS process has terminated unexpectedly.\n",
      "Invalid response from SAS on inital submission. printing the SASLOG as diagnostic\n",
      "[IPKernelApp] WARNING | WARNING: attempted to send message from fork\n",
      "{'header': {'msg_id': '863fd037-6773dbd477d8cbb675ecab08_24', 'msg_type': 'stream', 'username': 'username', 'session': '863fd037-6773dbd477d8cbb675ecab08', 'date': datetime.datetime(2020, 9, 11, 20, 37, 9, 821635, tzinfo=datetime.timezone.utc), 'version': '5.3'}, 'msg_id': '863fd037-6773dbd477d8cbb675ecab08_24', 'msg_type': 'stream', 'parent_header': {'msg_id': 'd0eaf8f4179043dea207091f022c6bb8', 'username': 'username', 'session': '08336aaf6983445c84710c51e83f1697', 'msg_type': 'execute_request', 'version': '5.2', 'date': datetime.datetime(2020, 9, 11, 20, 37, 9, 785117, tzinfo=datetime.timezone.utc)}, 'content': {'name': 'stdout', 'text': 'The OS Error was:\\nNo such file or directory\\n'}, 'metadata': {}}\n",
      "[IPKernelApp] WARNING | WARNING: attempted to send message from fork\n",
      "{'header': {'msg_id': '863fd037-6773dbd477d8cbb675ecab08_25', 'msg_type': 'stream', 'username': 'username', 'session': '863fd037-6773dbd477d8cbb675ecab08', 'date': datetime.datetime(2020, 9, 11, 20, 37, 9, 822707, tzinfo=datetime.timezone.utc), 'version': '5.3'}, 'msg_id': '863fd037-6773dbd477d8cbb675ecab08_25', 'msg_type': 'stream', 'parent_header': {'msg_id': 'd0eaf8f4179043dea207091f022c6bb8', 'username': 'username', 'session': '08336aaf6983445c84710c51e83f1697', 'msg_type': 'execute_request', 'version': '5.2', 'date': datetime.datetime(2020, 9, 11, 20, 37, 9, 785117, tzinfo=datetime.timezone.utc)}, 'content': {'name': 'stdout', 'text': '\\n'}, 'metadata': {}}\n",
      "[IPKernelApp] WARNING | WARNING: attempted to send message from fork\n",
      "{'header': {'msg_id': '863fd037-6773dbd477d8cbb675ecab08_26', 'msg_type': 'stream', 'username': 'username', 'session': '863fd037-6773dbd477d8cbb675ecab08', 'date': datetime.datetime(2020, 9, 11, 20, 37, 9, 822830, tzinfo=datetime.timezone.utc), 'version': '5.3'}, 'msg_id': '863fd037-6773dbd477d8cbb675ecab08_26', 'msg_type': 'stream', 'parent_header': {'msg_id': 'd0eaf8f4179043dea207091f022c6bb8', 'username': 'username', 'session': '08336aaf6983445c84710c51e83f1697', 'msg_type': 'execute_request', 'version': '5.2', 'date': datetime.datetime(2020, 9, 11, 20, 37, 9, 785117, tzinfo=datetime.timezone.utc)}, 'content': {'name': 'stdout', 'text': 'SAS Connection failed. No connection established. Double check your settings in sascfg_personal.py file.\\n'}, 'metadata': {}}\n",
      "[IPKernelApp] WARNING | WARNING: attempted to send message from fork\n",
      "{'header': {'msg_id': '863fd037-6773dbd477d8cbb675ecab08_27', 'msg_type': 'stream', 'username': 'username', 'session': '863fd037-6773dbd477d8cbb675ecab08', 'date': datetime.datetime(2020, 9, 11, 20, 37, 9, 822922, tzinfo=datetime.timezone.utc), 'version': '5.3'}, 'msg_id': '863fd037-6773dbd477d8cbb675ecab08_27', 'msg_type': 'stream', 'parent_header': {'msg_id': 'd0eaf8f4179043dea207091f022c6bb8', 'username': 'username', 'session': '08336aaf6983445c84710c51e83f1697', 'msg_type': 'execute_request', 'version': '5.2', 'date': datetime.datetime(2020, 9, 11, 20, 37, 9, 785117, tzinfo=datetime.timezone.utc)}, 'content': {'name': 'stdout', 'text': '\\n'}, 'metadata': {}}\n",
      "[IPKernelApp] WARNING | WARNING: attempted to send message from fork\n",
      "{'header': {'msg_id': '863fd037-6773dbd477d8cbb675ecab08_28', 'msg_type': 'stream', 'username': 'username', 'session': '863fd037-6773dbd477d8cbb675ecab08', 'date': datetime.datetime(2020, 9, 11, 20, 37, 9, 823019, tzinfo=datetime.timezone.utc), 'version': '5.3'}, 'msg_id': '863fd037-6773dbd477d8cbb675ecab08_28', 'msg_type': 'stream', 'parent_header': {'msg_id': 'd0eaf8f4179043dea207091f022c6bb8', 'username': 'username', 'session': '08336aaf6983445c84710c51e83f1697', 'msg_type': 'execute_request', 'version': '5.2', 'date': datetime.datetime(2020, 9, 11, 20, 37, 9, 785117, tzinfo=datetime.timezone.utc)}, 'content': {'name': 'stdout', 'text': \"Attempted to run program /opt/sasinside/SASHome/SASFoundation/9.4/bin/sas_u8 with the following parameters:['/opt/sasinside/SASHome/SASFoundation/9.4/bin/sas_u8', '-nodms', '-stdio', '-terminal', '-nosyntaxcheck', '-pagesize', 'MAX', '']\\n\"}, 'metadata': {}}\n",
      "[IPKernelApp] WARNING | WARNING: attempted to send message from fork\n",
      "{'header': {'msg_id': '863fd037-6773dbd477d8cbb675ecab08_29', 'msg_type': 'stream', 'username': 'username', 'session': '863fd037-6773dbd477d8cbb675ecab08', 'date': datetime.datetime(2020, 9, 11, 20, 37, 9, 823113, tzinfo=datetime.timezone.utc), 'version': '5.3'}, 'msg_id': '863fd037-6773dbd477d8cbb675ecab08_29', 'msg_type': 'stream', 'parent_header': {'msg_id': 'd0eaf8f4179043dea207091f022c6bb8', 'username': 'username', 'session': '08336aaf6983445c84710c51e83f1697', 'msg_type': 'execute_request', 'version': '5.2', 'date': datetime.datetime(2020, 9, 11, 20, 37, 9, 785117, tzinfo=datetime.timezone.utc)}, 'content': {'name': 'stdout', 'text': '\\n'}, 'metadata': {}}\n",
      "[IPKernelApp] WARNING | WARNING: attempted to send message from fork\n",
      "{'header': {'msg_id': '863fd037-6773dbd477d8cbb675ecab08_30', 'msg_type': 'stream', 'username': 'username', 'session': '863fd037-6773dbd477d8cbb675ecab08', 'date': datetime.datetime(2020, 9, 11, 20, 37, 9, 823187, tzinfo=datetime.timezone.utc), 'version': '5.3'}, 'msg_id': '863fd037-6773dbd477d8cbb675ecab08_30', 'msg_type': 'stream', 'parent_header': {'msg_id': 'd0eaf8f4179043dea207091f022c6bb8', 'username': 'username', 'session': '08336aaf6983445c84710c51e83f1697', 'msg_type': 'execute_request', 'version': '5.2', 'date': datetime.datetime(2020, 9, 11, 20, 37, 9, 785117, tzinfo=datetime.timezone.utc)}, 'content': {'name': 'stdout', 'text': 'If no OS Error above, try running the following command (where saspy is running) manually to see what is wrong:\\n/opt/sasinside/SASHome/SASFoundation/9.4/bin/sas_u8 -nodms -stdio -terminal -nosyntaxcheck -pagesize MAX  \\n'}, 'metadata': {}}\n",
      "[IPKernelApp] WARNING | WARNING: attempted to send message from fork\n",
      "{'header': {'msg_id': '863fd037-6773dbd477d8cbb675ecab08_31', 'msg_type': 'stream', 'username': 'username', 'session': '863fd037-6773dbd477d8cbb675ecab08', 'date': datetime.datetime(2020, 9, 11, 20, 37, 9, 823272, tzinfo=datetime.timezone.utc), 'version': '5.3'}, 'msg_id': '863fd037-6773dbd477d8cbb675ecab08_31', 'msg_type': 'stream', 'parent_header': {'msg_id': 'd0eaf8f4179043dea207091f022c6bb8', 'username': 'username', 'session': '08336aaf6983445c84710c51e83f1697', 'msg_type': 'execute_request', 'version': '5.2', 'date': datetime.datetime(2020, 9, 11, 20, 37, 9, 785117, tzinfo=datetime.timezone.utc)}, 'content': {'name': 'stdout', 'text': '\\n'}, 'metadata': {}}\n",
      "\n"
     ]
    }
   ],
   "source": [
    "proc setinit; run;"
   ]
  },
  {
   "cell_type": "code",
   "execution_count": null,
   "metadata": {},
   "outputs": [],
   "source": []
  }
 ],
 "metadata": {
  "kernelspec": {
   "display_name": "SAS",
   "language": "sas",
   "name": "sas"
  },
  "language_info": {
   "codemirror_mode": "sas",
   "file_extension": ".sas",
   "mimetype": "text/x-sas",
   "name": "sas"
  }
 },
 "nbformat": 4,
 "nbformat_minor": 4
}
