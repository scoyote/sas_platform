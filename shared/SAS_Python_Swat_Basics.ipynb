{
 "cells": [
  {
   "cell_type": "code",
   "execution_count": 8,
   "metadata": {},
   "outputs": [],
   "source": [
    "import pandas as pd\n",
    "import swat as sw"
   ]
  },
  {
   "cell_type": "code",
   "execution_count": 9,
   "metadata": {},
   "outputs": [],
   "source": [
    "cassession = sw.CAS(\"sas-viya35PL\", port=8777, protocol='http', username=\"sasdemo\", password=\"sasdemo\")"
   ]
  },
  {
   "cell_type": "markdown",
   "metadata": {},
   "source": [
    "#### Take a look at the connection.\n",
    "The ```session='...'``` is the unique identifyer for your session and could be used to open other connections to the same session, or reconnect if the client loses connection."
   ]
  },
  {
   "cell_type": "code",
   "execution_count": 10,
   "metadata": {},
   "outputs": [
    {
     "data": {
      "text/plain": [
       "CAS('sas-viya35pl', 8777, 'sasdemo', protocol='http', name='py-session-2', session='3233bbd2-e49e-d941-98e6-117bfffbfe4f')"
      ]
     },
     "execution_count": 10,
     "metadata": {},
     "output_type": "execute_result"
    }
   ],
   "source": [
    "cassession"
   ]
  },
  {
   "cell_type": "code",
   "execution_count": 15,
   "metadata": {},
   "outputs": [
    {
     "name": "stdout",
     "output_type": "stream",
     "text": [
      "NOTE: Grid node action status report: 1 nodes, 53 total actions executed.\n"
     ]
    },
    {
     "data": {
      "text/html": [
       "<div class=\"cas-results-key\"><b>&#167; About</b></div>\n",
       "<div class=\"cas-results-body\">\n",
       "<div>{'CAS': 'Cloud Analytic Services', 'Copyright': 'Copyright Â© 2014-2018 SAS Institute Inc. All Rights Reserved.', 'ServerTime': '2020-10-08T20:00:38Z', 'System': {'Hostname': '704e9847d02a', 'Linux Distribution': 'CentOS Linux release 7.8.2003 (Core)', 'Model Number': 'x86_64', 'OS Family': 'LIN X64', 'OS Name': 'Linux', 'OS Release': '4.19.76-linuxkit', 'OS Version': '#1 SMP Tue May 26 11:42:35 UTC 2020'}, 'Version': '3.05', 'VersionLong': 'V.03.05M0P11112019', 'license': {'expires': '17Sep2021:00:00:00', 'gracePeriod': 45, 'site': 'Viya 3.5 Container with Access', 'siteNum': 70180938, 'warningPeriod': 45}}</div>\n",
       "</div>\n",
       "<div class=\"cas-results-key\"><hr/><b>&#167; nodestatus</b></div>\n",
       "<div class=\"cas-results-body\">\n",
       "<div>\n",
       "<style scoped>\n",
       "    .dataframe tbody tr th:only-of-type {\n",
       "        vertical-align: middle;\n",
       "    }\n",
       "\n",
       "    .dataframe tbody tr th {\n",
       "        vertical-align: top;\n",
       "    }\n",
       "\n",
       "    .dataframe thead th {\n",
       "        text-align: right;\n",
       "    }\n",
       "</style>\n",
       "<table border=\"1\" class=\"dataframe\"><caption>Node Status</caption>\n",
       "  <thead>\n",
       "    <tr style=\"text-align: right;\">\n",
       "      <th title=\"\"></th>\n",
       "      <th title=\"Node Name\">name</th>\n",
       "      <th title=\"Role\">role</th>\n",
       "      <th title=\"Uptime (Sec)\">uptime</th>\n",
       "      <th title=\"Running\">running</th>\n",
       "      <th title=\"Stalled\">stalled</th>\n",
       "    </tr>\n",
       "  </thead>\n",
       "  <tbody>\n",
       "    <tr>\n",
       "      <td>0</td>\n",
       "      <td>704e9847d02a</td>\n",
       "      <td>controller</td>\n",
       "      <td>331.539</td>\n",
       "      <td>0</td>\n",
       "      <td>0</td>\n",
       "    </tr>\n",
       "  </tbody>\n",
       "</table>\n",
       "</div>\n",
       "</div>\n",
       "<div class=\"cas-results-key\"><hr/><b>&#167; server</b></div>\n",
       "<div class=\"cas-results-body\">\n",
       "<div>\n",
       "<style scoped>\n",
       "    .dataframe tbody tr th:only-of-type {\n",
       "        vertical-align: middle;\n",
       "    }\n",
       "\n",
       "    .dataframe tbody tr th {\n",
       "        vertical-align: top;\n",
       "    }\n",
       "\n",
       "    .dataframe thead th {\n",
       "        text-align: right;\n",
       "    }\n",
       "</style>\n",
       "<table border=\"1\" class=\"dataframe\"><caption>Server Status</caption>\n",
       "  <thead>\n",
       "    <tr style=\"text-align: right;\">\n",
       "      <th title=\"\"></th>\n",
       "      <th title=\"Node Count\">nodes</th>\n",
       "      <th title=\"Total Actions\">actions</th>\n",
       "    </tr>\n",
       "  </thead>\n",
       "  <tbody>\n",
       "    <tr>\n",
       "      <td>0</td>\n",
       "      <td>1</td>\n",
       "      <td>53</td>\n",
       "    </tr>\n",
       "  </tbody>\n",
       "</table>\n",
       "</div>\n",
       "</div>\n",
       "<div class=\"cas-output-area\"></div>\n",
       "<p class=\"cas-results-performance\"><small><span class=\"cas-elapsed\">elapsed 0.000677s</span> &#183; <span class=\"cas-user\">user 0.000124s</span> &#183; <span class=\"cas-sys\">sys 0.000421s</span> &#183; <span class=\"cas-memory\">mem 0.322MB</span></small></p>"
      ],
      "text/plain": [
       "[About]\n",
       "\n",
       " {'CAS': 'Cloud Analytic Services',\n",
       "  'Copyright': 'Copyright Â© 2014-2018 SAS Institute Inc. All Rights Reserved.',\n",
       "  'ServerTime': '2020-10-08T20:00:38Z',\n",
       "  'System': {'Hostname': '704e9847d02a',\n",
       "   'Linux Distribution': 'CentOS Linux release 7.8.2003 (Core)',\n",
       "   'Model Number': 'x86_64',\n",
       "   'OS Family': 'LIN X64',\n",
       "   'OS Name': 'Linux',\n",
       "   'OS Release': '4.19.76-linuxkit',\n",
       "   'OS Version': '#1 SMP Tue May 26 11:42:35 UTC 2020'},\n",
       "  'Version': '3.05',\n",
       "  'VersionLong': 'V.03.05M0P11112019',\n",
       "  'license': {'expires': '17Sep2021:00:00:00',\n",
       "   'gracePeriod': 45,\n",
       "   'site': 'Viya 3.5 Container with Access',\n",
       "   'siteNum': 70180938,\n",
       "   'warningPeriod': 45}}\n",
       "\n",
       "[nodestatus]\n",
       "\n",
       " Node Status\n",
       " \n",
       "            name        role   uptime  running  stalled\n",
       " 0  704e9847d02a  controller  331.539        0        0\n",
       "\n",
       "[server]\n",
       "\n",
       " Server Status\n",
       " \n",
       "    nodes  actions\n",
       " 0      1       53\n",
       "\n",
       "+ Elapsed: 0.000677s, user: 0.000124s, sys: 0.000421s, mem: 0.322mb"
      ]
     },
     "execution_count": 15,
     "metadata": {},
     "output_type": "execute_result"
    }
   ],
   "source": [
    "cassession.builtins.serverstatus()"
   ]
  },
  {
   "cell_type": "code",
   "execution_count": 16,
   "metadata": {},
   "outputs": [
    {
     "data": {
      "text/html": [
       "<div class=\"cas-results-key\"><b>&#167; CASLibInfo</b></div>\n",
       "<div class=\"cas-results-body\">\n",
       "<div>\n",
       "<style scoped>\n",
       "    .dataframe tbody tr th:only-of-type {\n",
       "        vertical-align: middle;\n",
       "    }\n",
       "\n",
       "    .dataframe tbody tr th {\n",
       "        vertical-align: top;\n",
       "    }\n",
       "\n",
       "    .dataframe thead th {\n",
       "        text-align: right;\n",
       "    }\n",
       "</style>\n",
       "<table border=\"1\" class=\"dataframe\">\n",
       "  <thead>\n",
       "    <tr style=\"text-align: right;\">\n",
       "      <th title=\"\"></th>\n",
       "      <th title=\"Name\">Name</th>\n",
       "      <th title=\"Type\">Type</th>\n",
       "      <th title=\"Description\">Description</th>\n",
       "      <th title=\"Path\">Path</th>\n",
       "      <th title=\"Definition\">Definition</th>\n",
       "      <th title=\"Subdirs\">Subdirs</th>\n",
       "      <th title=\"Local\">Local</th>\n",
       "      <th title=\"Active\">Active</th>\n",
       "      <th title=\"Personal\">Personal</th>\n",
       "      <th title=\"Hidden\">Hidden</th>\n",
       "      <th title=\"Transient\">Transient</th>\n",
       "    </tr>\n",
       "  </thead>\n",
       "  <tbody>\n",
       "    <tr>\n",
       "      <td>0</td>\n",
       "      <td>CASUSER(sasdemo)</td>\n",
       "      <td>PATH</td>\n",
       "      <td>Personal File System Caslib</td>\n",
       "      <td>/home/sasdemo/casuser/</td>\n",
       "      <td></td>\n",
       "      <td>1.0</td>\n",
       "      <td>0.0</td>\n",
       "      <td>1.0</td>\n",
       "      <td>1.0</td>\n",
       "      <td>0.0</td>\n",
       "      <td>1.0</td>\n",
       "    </tr>\n",
       "    <tr>\n",
       "      <td>1</td>\n",
       "      <td>Public</td>\n",
       "      <td>PATH</td>\n",
       "      <td>Shared and writeable caslib, accessible to all...</td>\n",
       "      <td>/opt/sas/viya/config/data/cas/default/public/</td>\n",
       "      <td></td>\n",
       "      <td>0.0</td>\n",
       "      <td>0.0</td>\n",
       "      <td>0.0</td>\n",
       "      <td>0.0</td>\n",
       "      <td>0.0</td>\n",
       "      <td>0.0</td>\n",
       "    </tr>\n",
       "  </tbody>\n",
       "</table>\n",
       "</div>\n",
       "</div>\n",
       "<div class=\"cas-output-area\"></div>\n",
       "<p class=\"cas-results-performance\"><small><span class=\"cas-elapsed\">elapsed 0.000673s</span> &#183; <span class=\"cas-user\">user 0.000567s</span> &#183; <span class=\"cas-memory\">mem 0.695MB</span></small></p>"
      ],
      "text/plain": [
       "[CASLibInfo]\n",
       "\n",
       "                Name  Type                                        Description                                           Path Definition  Subdirs  Local  Active  Personal  Hidden  Transient\n",
       " 0  CASUSER(sasdemo)  PATH                        Personal File System Caslib                         /home/sasdemo/casuser/                 1.0    0.0     1.0       1.0     0.0        1.0\n",
       " 1            Public  PATH  Shared and writeable caslib, accessible to all...  /opt/sas/viya/config/data/cas/default/public/                 0.0    0.0     0.0       0.0     0.0        0.0\n",
       "\n",
       "+ Elapsed: 0.000673s, user: 0.000567s, mem: 0.695mb"
      ]
     },
     "execution_count": 16,
     "metadata": {},
     "output_type": "execute_result"
    }
   ],
   "source": [
    "cassession.caslibinfo()"
   ]
  },
  {
   "cell_type": "markdown",
   "metadata": {},
   "source": [
    "https://sassoftware.github.io/python-swat/loading-data.html"
   ]
  },
  {
   "cell_type": "code",
   "execution_count": 17,
   "metadata": {},
   "outputs": [
    {
     "name": "stdout",
     "output_type": "stream",
     "text": [
      "ERROR: The file or path 'sashelp.cars' is not available in the file system.\n",
      "ERROR: The action stopped due to errors.\n"
     ]
    }
   ],
   "source": [
    "cars = cassession.loadtable()"
   ]
  },
  {
   "cell_type": "code",
   "execution_count": 20,
   "metadata": {},
   "outputs": [
    {
     "name": "stdout",
     "output_type": "stream",
     "text": [
      "ERROR: You must provide variable definitions when invoking AddTable.  A Data Message Handler must be specified.\n",
      "ERROR: The action stopped due to errors.\n"
     ]
    }
   ],
   "source": [
    "# I wanted to load a table in a traditional SAS library to a in-memory caslib. I went to talbe, and found addTable\n",
    "# which looks like the best option. \n",
    "# https://documentation.sas.com/?cdcId=pgmsascdc&cdcVersion=9.4_3.5&docsetId=caspg&docsetTarget=cas-table-addtable.htm&locale=en \n",
    "\n",
    "r = cassession.table.addtable(table='sashelp.class', caslib='Public',reclen=\"32000\")"
   ]
  },
  {
   "cell_type": "code",
   "execution_count": null,
   "metadata": {},
   "outputs": [],
   "source": []
  },
  {
   "cell_type": "code",
   "execution_count": 7,
   "metadata": {},
   "outputs": [],
   "source": [
    "#cassession.close()"
   ]
  },
  {
   "cell_type": "code",
   "execution_count": null,
   "metadata": {},
   "outputs": [],
   "source": []
  }
 ],
 "metadata": {
  "kernelspec": {
   "display_name": "Python 3",
   "language": "python",
   "name": "python3"
  },
  "language_info": {
   "codemirror_mode": {
    "name": "ipython",
    "version": 3
   },
   "file_extension": ".py",
   "mimetype": "text/x-python",
   "name": "python",
   "nbconvert_exporter": "python",
   "pygments_lexer": "ipython3",
   "version": "3.8.2"
  }
 },
 "nbformat": 4,
 "nbformat_minor": 4
}
