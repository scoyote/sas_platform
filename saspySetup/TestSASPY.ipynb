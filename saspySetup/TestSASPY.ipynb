{
 "cells": [
  {
   "cell_type": "code",
   "execution_count": 15,
   "metadata": {},
   "outputs": [],
   "source": [
    "import saspy"
   ]
  },
  {
   "cell_type": "code",
   "execution_count": 40,
   "metadata": {},
   "outputs": [
    {
     "name": "stdout",
     "output_type": "stream",
     "text": [
      "Using SAS Config named: localmac\n",
      "Please enter the IOM user id: sas\n",
      "Please enter the password for IOM user : ········\n",
      "SAS Connection established. Subprocess id is 53984\n",
      "\n"
     ]
    }
   ],
   "source": [
    "sas = saspy.SASsession(cfgfile='sascfg_mac.py')"
   ]
  },
  {
   "cell_type": "code",
   "execution_count": 34,
   "metadata": {},
   "outputs": [],
   "source": [
    "cars = sas.sasdata('cars', 'sashelp')"
   ]
  },
  {
   "cell_type": "code",
   "execution_count": 35,
   "metadata": {},
   "outputs": [
    {
     "data": {
      "text/plain": [
       "Libref  = sashelp\n",
       "Table   = cars\n",
       "Dsopts  = {}\n",
       "Results = Pandas"
      ]
     },
     "execution_count": 35,
     "metadata": {},
     "output_type": "execute_result"
    }
   ],
   "source": [
    "cars"
   ]
  },
  {
   "cell_type": "code",
   "execution_count": 36,
   "metadata": {},
   "outputs": [
    {
     "data": {
      "text/html": [
       "<div>\n",
       "<style scoped>\n",
       "    .dataframe tbody tr th:only-of-type {\n",
       "        vertical-align: middle;\n",
       "    }\n",
       "\n",
       "    .dataframe tbody tr th {\n",
       "        vertical-align: top;\n",
       "    }\n",
       "\n",
       "    .dataframe thead th {\n",
       "        text-align: right;\n",
       "    }\n",
       "</style>\n",
       "<table border=\"1\" class=\"dataframe\">\n",
       "  <thead>\n",
       "    <tr style=\"text-align: right;\">\n",
       "      <th></th>\n",
       "      <th>Member</th>\n",
       "      <th>Num</th>\n",
       "      <th>Variable</th>\n",
       "      <th>Type</th>\n",
       "      <th>Len</th>\n",
       "      <th>Pos</th>\n",
       "      <th>Format</th>\n",
       "      <th>Label</th>\n",
       "    </tr>\n",
       "  </thead>\n",
       "  <tbody>\n",
       "    <tr>\n",
       "      <th>0</th>\n",
       "      <td>SASHELP.CARS</td>\n",
       "      <td>9</td>\n",
       "      <td>Cylinders</td>\n",
       "      <td>Num</td>\n",
       "      <td>8</td>\n",
       "      <td>24</td>\n",
       "      <td>NaN</td>\n",
       "      <td>NaN</td>\n",
       "    </tr>\n",
       "    <tr>\n",
       "      <th>1</th>\n",
       "      <td>SASHELP.CARS</td>\n",
       "      <td>5</td>\n",
       "      <td>DriveTrain</td>\n",
       "      <td>Char</td>\n",
       "      <td>5</td>\n",
       "      <td>147</td>\n",
       "      <td>NaN</td>\n",
       "      <td>NaN</td>\n",
       "    </tr>\n",
       "    <tr>\n",
       "      <th>2</th>\n",
       "      <td>SASHELP.CARS</td>\n",
       "      <td>8</td>\n",
       "      <td>EngineSize</td>\n",
       "      <td>Num</td>\n",
       "      <td>8</td>\n",
       "      <td>16</td>\n",
       "      <td>NaN</td>\n",
       "      <td>Engine Size (L)</td>\n",
       "    </tr>\n",
       "    <tr>\n",
       "      <th>3</th>\n",
       "      <td>SASHELP.CARS</td>\n",
       "      <td>10</td>\n",
       "      <td>Horsepower</td>\n",
       "      <td>Num</td>\n",
       "      <td>8</td>\n",
       "      <td>32</td>\n",
       "      <td>NaN</td>\n",
       "      <td>NaN</td>\n",
       "    </tr>\n",
       "    <tr>\n",
       "      <th>4</th>\n",
       "      <td>SASHELP.CARS</td>\n",
       "      <td>7</td>\n",
       "      <td>Invoice</td>\n",
       "      <td>Num</td>\n",
       "      <td>8</td>\n",
       "      <td>8</td>\n",
       "      <td>DOLLAR8.</td>\n",
       "      <td>NaN</td>\n",
       "    </tr>\n",
       "    <tr>\n",
       "      <th>5</th>\n",
       "      <td>SASHELP.CARS</td>\n",
       "      <td>15</td>\n",
       "      <td>Length</td>\n",
       "      <td>Num</td>\n",
       "      <td>8</td>\n",
       "      <td>72</td>\n",
       "      <td>NaN</td>\n",
       "      <td>Length (IN)</td>\n",
       "    </tr>\n",
       "    <tr>\n",
       "      <th>6</th>\n",
       "      <td>SASHELP.CARS</td>\n",
       "      <td>11</td>\n",
       "      <td>MPG_City</td>\n",
       "      <td>Num</td>\n",
       "      <td>8</td>\n",
       "      <td>40</td>\n",
       "      <td>NaN</td>\n",
       "      <td>MPG (City)</td>\n",
       "    </tr>\n",
       "    <tr>\n",
       "      <th>7</th>\n",
       "      <td>SASHELP.CARS</td>\n",
       "      <td>12</td>\n",
       "      <td>MPG_Highway</td>\n",
       "      <td>Num</td>\n",
       "      <td>8</td>\n",
       "      <td>48</td>\n",
       "      <td>NaN</td>\n",
       "      <td>MPG (Highway)</td>\n",
       "    </tr>\n",
       "    <tr>\n",
       "      <th>8</th>\n",
       "      <td>SASHELP.CARS</td>\n",
       "      <td>6</td>\n",
       "      <td>MSRP</td>\n",
       "      <td>Num</td>\n",
       "      <td>8</td>\n",
       "      <td>0</td>\n",
       "      <td>DOLLAR8.</td>\n",
       "      <td>NaN</td>\n",
       "    </tr>\n",
       "    <tr>\n",
       "      <th>9</th>\n",
       "      <td>SASHELP.CARS</td>\n",
       "      <td>1</td>\n",
       "      <td>Make</td>\n",
       "      <td>Char</td>\n",
       "      <td>13</td>\n",
       "      <td>80</td>\n",
       "      <td>NaN</td>\n",
       "      <td>NaN</td>\n",
       "    </tr>\n",
       "    <tr>\n",
       "      <th>10</th>\n",
       "      <td>SASHELP.CARS</td>\n",
       "      <td>2</td>\n",
       "      <td>Model</td>\n",
       "      <td>Char</td>\n",
       "      <td>40</td>\n",
       "      <td>93</td>\n",
       "      <td>NaN</td>\n",
       "      <td>NaN</td>\n",
       "    </tr>\n",
       "    <tr>\n",
       "      <th>11</th>\n",
       "      <td>SASHELP.CARS</td>\n",
       "      <td>4</td>\n",
       "      <td>Origin</td>\n",
       "      <td>Char</td>\n",
       "      <td>6</td>\n",
       "      <td>141</td>\n",
       "      <td>NaN</td>\n",
       "      <td>NaN</td>\n",
       "    </tr>\n",
       "    <tr>\n",
       "      <th>12</th>\n",
       "      <td>SASHELP.CARS</td>\n",
       "      <td>3</td>\n",
       "      <td>Type</td>\n",
       "      <td>Char</td>\n",
       "      <td>8</td>\n",
       "      <td>133</td>\n",
       "      <td>NaN</td>\n",
       "      <td>NaN</td>\n",
       "    </tr>\n",
       "    <tr>\n",
       "      <th>13</th>\n",
       "      <td>SASHELP.CARS</td>\n",
       "      <td>13</td>\n",
       "      <td>Weight</td>\n",
       "      <td>Num</td>\n",
       "      <td>8</td>\n",
       "      <td>56</td>\n",
       "      <td>NaN</td>\n",
       "      <td>Weight (LBS)</td>\n",
       "    </tr>\n",
       "    <tr>\n",
       "      <th>14</th>\n",
       "      <td>SASHELP.CARS</td>\n",
       "      <td>14</td>\n",
       "      <td>Wheelbase</td>\n",
       "      <td>Num</td>\n",
       "      <td>8</td>\n",
       "      <td>64</td>\n",
       "      <td>NaN</td>\n",
       "      <td>Wheelbase (IN)</td>\n",
       "    </tr>\n",
       "  </tbody>\n",
       "</table>\n",
       "</div>"
      ],
      "text/plain": [
       "          Member  Num     Variable  Type  Len  Pos    Format            Label\n",
       "0   SASHELP.CARS    9    Cylinders   Num    8   24       NaN              NaN\n",
       "1   SASHELP.CARS    5   DriveTrain  Char    5  147       NaN              NaN\n",
       "2   SASHELP.CARS    8   EngineSize   Num    8   16       NaN  Engine Size (L)\n",
       "3   SASHELP.CARS   10   Horsepower   Num    8   32       NaN              NaN\n",
       "4   SASHELP.CARS    7      Invoice   Num    8    8  DOLLAR8.              NaN\n",
       "5   SASHELP.CARS   15       Length   Num    8   72       NaN      Length (IN)\n",
       "6   SASHELP.CARS   11     MPG_City   Num    8   40       NaN       MPG (City)\n",
       "7   SASHELP.CARS   12  MPG_Highway   Num    8   48       NaN    MPG (Highway)\n",
       "8   SASHELP.CARS    6         MSRP   Num    8    0  DOLLAR8.              NaN\n",
       "9   SASHELP.CARS    1         Make  Char   13   80       NaN              NaN\n",
       "10  SASHELP.CARS    2        Model  Char   40   93       NaN              NaN\n",
       "11  SASHELP.CARS    4       Origin  Char    6  141       NaN              NaN\n",
       "12  SASHELP.CARS    3         Type  Char    8  133       NaN              NaN\n",
       "13  SASHELP.CARS   13       Weight   Num    8   56       NaN     Weight (LBS)\n",
       "14  SASHELP.CARS   14    Wheelbase   Num    8   64       NaN   Wheelbase (IN)"
      ]
     },
     "execution_count": 36,
     "metadata": {},
     "output_type": "execute_result"
    }
   ],
   "source": [
    "cars.columnInfo()"
   ]
  },
  {
   "cell_type": "code",
   "execution_count": 38,
   "metadata": {},
   "outputs": [
    {
     "ename": "ChildProcessError",
     "evalue": "[Errno 10] No child processes",
     "output_type": "error",
     "traceback": [
      "\u001b[0;31m---------------------------------------------------------------------------\u001b[0m",
      "\u001b[0;31mChildProcessError\u001b[0m                         Traceback (most recent call last)",
      "\u001b[0;32m<ipython-input-38-b66e2278ae9b>\u001b[0m in \u001b[0;36m<module>\u001b[0;34m\u001b[0m\n\u001b[0;32m----> 1\u001b[0;31m \u001b[0msas\u001b[0m\u001b[0;34m.\u001b[0m\u001b[0mendsas\u001b[0m\u001b[0;34m(\u001b[0m\u001b[0;34m)\u001b[0m\u001b[0;34m\u001b[0m\u001b[0;34m\u001b[0m\u001b[0m\n\u001b[0m",
      "\u001b[0;32m~/opt/anaconda3/lib/python3.7/site-packages/saspy/sasbase.py\u001b[0m in \u001b[0;36mendsas\u001b[0;34m(self)\u001b[0m\n\u001b[1;32m    631\u001b[0m         \u001b[0mThis\u001b[0m \u001b[0mmethod\u001b[0m \u001b[0mterminates\u001b[0m \u001b[0mthe\u001b[0m \u001b[0mSAS\u001b[0m \u001b[0msession\u001b[0m\u001b[0;34m,\u001b[0m \u001b[0mshutting\u001b[0m \u001b[0mdown\u001b[0m \u001b[0mthe\u001b[0m \u001b[0mSAS\u001b[0m \u001b[0mprocess\u001b[0m\u001b[0;34m.\u001b[0m\u001b[0;34m\u001b[0m\u001b[0;34m\u001b[0m\u001b[0m\n\u001b[1;32m    632\u001b[0m         \"\"\"\n\u001b[0;32m--> 633\u001b[0;31m         \u001b[0;32mreturn\u001b[0m \u001b[0mself\u001b[0m\u001b[0;34m.\u001b[0m\u001b[0m_endsas\u001b[0m\u001b[0;34m(\u001b[0m\u001b[0;34m)\u001b[0m\u001b[0;34m\u001b[0m\u001b[0;34m\u001b[0m\u001b[0m\n\u001b[0m\u001b[1;32m    634\u001b[0m \u001b[0;34m\u001b[0m\u001b[0m\n\u001b[1;32m    635\u001b[0m     \u001b[0;32mdef\u001b[0m \u001b[0m_endsas\u001b[0m\u001b[0;34m(\u001b[0m\u001b[0mself\u001b[0m\u001b[0;34m)\u001b[0m\u001b[0;34m:\u001b[0m\u001b[0;34m\u001b[0m\u001b[0;34m\u001b[0m\u001b[0m\n",
      "\u001b[0;32m~/opt/anaconda3/lib/python3.7/site-packages/saspy/sasbase.py\u001b[0m in \u001b[0;36m_endsas\u001b[0;34m(self)\u001b[0m\n\u001b[1;32m    636\u001b[0m         \u001b[0mself\u001b[0m\u001b[0;34m.\u001b[0m\u001b[0mSASpid\u001b[0m \u001b[0;34m=\u001b[0m \u001b[0;32mNone\u001b[0m\u001b[0;34m\u001b[0m\u001b[0;34m\u001b[0m\u001b[0m\n\u001b[1;32m    637\u001b[0m         \u001b[0;32mif\u001b[0m \u001b[0mself\u001b[0m\u001b[0;34m.\u001b[0m\u001b[0m_io\u001b[0m\u001b[0;34m:\u001b[0m\u001b[0;34m\u001b[0m\u001b[0;34m\u001b[0m\u001b[0m\n\u001b[0;32m--> 638\u001b[0;31m            \u001b[0;32mreturn\u001b[0m \u001b[0mself\u001b[0m\u001b[0;34m.\u001b[0m\u001b[0m_io\u001b[0m\u001b[0;34m.\u001b[0m\u001b[0m_endsas\u001b[0m\u001b[0;34m(\u001b[0m\u001b[0;34m)\u001b[0m\u001b[0;34m\u001b[0m\u001b[0;34m\u001b[0m\u001b[0m\n\u001b[0m\u001b[1;32m    639\u001b[0m \u001b[0;34m\u001b[0m\u001b[0m\n\u001b[1;32m    640\u001b[0m     \u001b[0;32mdef\u001b[0m \u001b[0m_getlog\u001b[0m\u001b[0;34m(\u001b[0m\u001b[0mself\u001b[0m\u001b[0;34m,\u001b[0m \u001b[0;34m**\u001b[0m\u001b[0mkwargs\u001b[0m\u001b[0;34m)\u001b[0m\u001b[0;34m:\u001b[0m\u001b[0;34m\u001b[0m\u001b[0;34m\u001b[0m\u001b[0m\n",
      "\u001b[0;32m~/opt/anaconda3/lib/python3.7/site-packages/saspy/sasioiom.py\u001b[0m in \u001b[0;36m_endsas\u001b[0;34m(self)\u001b[0m\n\u001b[1;32m    542\u001b[0m             \u001b[0mx\u001b[0m \u001b[0;34m=\u001b[0m \u001b[0;36m5\u001b[0m\u001b[0;34m\u001b[0m\u001b[0;34m\u001b[0m\u001b[0m\n\u001b[1;32m    543\u001b[0m             \u001b[0;32mwhile\u001b[0m \u001b[0;32mTrue\u001b[0m\u001b[0;34m:\u001b[0m\u001b[0;34m\u001b[0m\u001b[0;34m\u001b[0m\u001b[0m\n\u001b[0;32m--> 544\u001b[0;31m                \u001b[0mrc\u001b[0m \u001b[0;34m=\u001b[0m \u001b[0mos\u001b[0m\u001b[0;34m.\u001b[0m\u001b[0mwaitpid\u001b[0m\u001b[0;34m(\u001b[0m\u001b[0mself\u001b[0m\u001b[0;34m.\u001b[0m\u001b[0mpid\u001b[0m\u001b[0;34m,\u001b[0m \u001b[0mos\u001b[0m\u001b[0;34m.\u001b[0m\u001b[0mWNOHANG\u001b[0m\u001b[0;34m)\u001b[0m\u001b[0;34m\u001b[0m\u001b[0;34m\u001b[0m\u001b[0m\n\u001b[0m\u001b[1;32m    545\u001b[0m                \u001b[0;32mif\u001b[0m \u001b[0mrc\u001b[0m\u001b[0;34m[\u001b[0m\u001b[0;36m0\u001b[0m\u001b[0;34m]\u001b[0m \u001b[0;34m!=\u001b[0m \u001b[0;36m0\u001b[0m\u001b[0;34m:\u001b[0m\u001b[0;34m\u001b[0m\u001b[0;34m\u001b[0m\u001b[0m\n\u001b[1;32m    546\u001b[0m                   \u001b[0;32mbreak\u001b[0m\u001b[0;34m\u001b[0m\u001b[0;34m\u001b[0m\u001b[0m\n",
      "\u001b[0;31mChildProcessError\u001b[0m: [Errno 10] No child processes"
     ]
    }
   ],
   "source": [
    "sas.endsas()"
   ]
  },
  {
   "cell_type": "code",
   "execution_count": null,
   "metadata": {},
   "outputs": [],
   "source": []
  },
  {
   "cell_type": "code",
   "execution_count": null,
   "metadata": {},
   "outputs": [],
   "source": []
  }
 ],
 "metadata": {
  "kernelspec": {
   "display_name": "Python 3",
   "language": "python",
   "name": "python3"
  },
  "language_info": {
   "codemirror_mode": {
    "name": "ipython",
    "version": 3
   },
   "file_extension": ".py",
   "mimetype": "text/x-python",
   "name": "python",
   "nbconvert_exporter": "python",
   "pygments_lexer": "ipython3",
   "version": "3.7.4"
  }
 },
 "nbformat": 4,
 "nbformat_minor": 4
}
